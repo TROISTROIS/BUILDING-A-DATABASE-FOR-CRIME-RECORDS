{
 "cells": [
  {
   "cell_type": "markdown",
   "id": "de694025-43c3-40e5-a0e9-7615235c2866",
   "metadata": {},
   "source": [
    "#  BUILDING A DATABASE FOR CRIME REPORTS\n",
    "# GOAL\n",
    "In this guided project, we will build a database for storing data related to crimes that occurred in Boston. This dataset is available in the file **boston.csv.** The first column represents the identifier of the crime. The second contains a numeric identifier code for the committed crime. The third represents a description of the crime. The next two columns contain the date when the crime happened and the corresponding day of the week. Finally, the last two columns represent the location of the crime with latitude and longitude coordinates. The goal of this guided project is to:\n",
    "1. Create a database named **crimes_db** with a table , **boston_crimes**, with appropriate datatypes for storing the data from the boston.csv file. The table will be created inside a schema named crimes.\n",
    "2. Create the *readonly* and *readwrite* groups with the appropriate privileges. \n",
    "3. Create one user for each of these groups."
   ]
  },
  {
   "cell_type": "code",
   "execution_count": 5,
   "id": "57c28d82",
   "metadata": {},
   "outputs": [],
   "source": [
    "import psycopg2\n",
    "import csv"
   ]
  },
  {
   "cell_type": "code",
   "execution_count": 6,
   "id": "0bdb73f2-f2cf-4068-8857-4f735e0cd69b",
   "metadata": {
    "collapsed": false,
    "jupyter": {
     "outputs_hidden": false
    }
   },
   "outputs": [],
   "source": [
    "# Connect to dq database with user dq then disconnect\n",
    "conn = psycopg2.connect(\"dbname=postgres user=postgres\")\n",
    "conn.autocommit = True\n",
    "cur=conn.cursor()\n",
    "cur.execute(\"CREATE DATABASE crime_db\")\n",
    "conn.close()"
   ]
  },
  {
   "cell_type": "code",
   "execution_count": 7,
   "id": "ae2f4b2a-f600-4fa4-bc66-e36d140a01fb",
   "metadata": {
    "collapsed": false,
    "jupyter": {
     "outputs_hidden": false
    }
   },
   "outputs": [],
   "source": [
    "# connect to crime_db database\n",
    "conn=psycopg2.connect(\"dbname=crime_db user=postgres\")\n",
    "conn.autocommit = True\n",
    "cur=conn.cursor()\n",
    "cur.execute(\"CREATE SCHEMA crimes\")\n",
    "conn.commit()"
   ]
  },
  {
   "cell_type": "code",
   "execution_count": 8,
   "id": "8e57c9d0-cc3b-4519-a0c7-83e6d50e7c1c",
   "metadata": {
    "collapsed": false,
    "jupyter": {
     "outputs_hidden": false
    }
   },
   "outputs": [
    {
     "name": "stdout",
     "output_type": "stream",
     "text": [
      "Headers: ['incident_number', 'offense_code', 'description', 'date', 'day_of_the_week', 'lat', 'long']\n",
      "First Row: ['1', '619', 'LARCENY ALL OTHERS', '2018-09-02', 'Sunday', '42.35779134', '-71.13937053']\n"
     ]
    }
   ],
   "source": [
    "# obtaining column names and samples\n",
    "with open (\"boston.csv\") as file:\n",
    "    read_file = csv.reader(file)\n",
    "    col_headers = next(read_file)\n",
    "    first_row = next(read_file)\n",
    "print(\"Headers:\",col_headers)\n",
    "print(\"First Row:\",first_row)"
   ]
  },
  {
   "cell_type": "markdown",
   "id": "d591e220-e5b4-4188-b927-aa44dffc027c",
   "metadata": {},
   "source": [
    "# Creating an Auxiliary Function\n",
    "Before we create a table to store the crime data, we need to identify the proper datatypes for the columns. To help us with that, let's create a function — **get_col_set()** — that, given the name of a CSV file and a column index (starting at 0), computes a Python set with all distinct values contained in that column. This function will be useful for two reasons:\n",
    "\n",
    "1. Checking whether an enumerated datatype might be a good choice for representing a column\n",
    "2. Computing the maximum length of any text-like column to select appropriate sizes for VARCHAR columns"
   ]
  },
  {
   "cell_type": "code",
   "execution_count": 9,
   "id": "5e66dce2-8408-4b16-bfee-73ffe47b8b34",
   "metadata": {
    "collapsed": false,
    "jupyter": {
     "outputs_hidden": false
    }
   },
   "outputs": [
    {
     "name": "stdout",
     "output_type": "stream",
     "text": [
      "incident_number 298329\n",
      "offense_code 219\n",
      "description 239\n",
      "date 1177\n",
      "day_of_the_week 7\n",
      "lat 18177\n",
      "long 18177\n"
     ]
    }
   ],
   "source": [
    "# Creating an auxiliary function to identify proper datatypes\n",
    "def get_col_set(csv_filename, col_index):\n",
    "    with open('boston.csv') as f:\n",
    "        next(f)\n",
    "        reader = csv.reader(f)\n",
    "        \n",
    "        distinct_values = set()\n",
    "        for row in reader:\n",
    "            distinct_values.add(row[col_index])\n",
    "            \n",
    "    return(distinct_values)\n",
    "\n",
    "for i in range(len(col_headers)):\n",
    "    distinct_values = get_col_set('boston.csv',i)\n",
    "    print(col_headers[i], len(distinct_values))"
   ]
  },
  {
   "cell_type": "markdown",
   "id": "189803d0-5522-46fa-959b-3fbde53d9034",
   "metadata": {},
   "source": [
    "# Finding the Maximum Length\n",
    "With the function above, we can compute the number of distinct values for each column. Columns with a low number of distinct values tend to be good candidates for enumerated datatypes. We will later:  \n",
    "\n",
    "1. Choose which datatype to use for each column.\n",
    "2. Determine the longest word in any column containing textual data.\n"
   ]
  },
  {
   "cell_type": "code",
   "execution_count": 10,
   "id": "66d21ce8-8185-4fd8-8f6c-6ae8ec919f84",
   "metadata": {
    "collapsed": false,
    "jupyter": {
     "outputs_hidden": false
    }
   },
   "outputs": [
    {
     "name": "stdout",
     "output_type": "stream",
     "text": [
      "{'incident_number': 0, 'offense_code': 1, 'description': 2, 'date': 3, 'day_of_the_week': 4, 'lat': 5, 'long': 6}\n"
     ]
    }
   ],
   "source": [
    "col_idx = {}\n",
    "for i in range(len(col_headers)):\n",
    "    col_idx[col_headers[i]] = i\n",
    "print(col_idx)"
   ]
  },
  {
   "cell_type": "code",
   "execution_count": 11,
   "id": "f7c2119f-1120-4976-94c2-0e2d620ffdfa",
   "metadata": {
    "collapsed": false,
    "jupyter": {
     "outputs_hidden": false
    }
   },
   "outputs": [
    {
     "name": "stdout",
     "output_type": "stream",
     "text": [
      "58\n"
     ]
    }
   ],
   "source": [
    "#  compute the maximum length of any value in the description column\n",
    "col_values = get_col_set('boston.csv', 2)\n",
    "max_len = 0\n",
    "for value in col_values:\n",
    "    max_len = max(max_len, len(value))\n",
    "\n",
    "print(max_len)"
   ]
  },
  {
   "cell_type": "code",
   "execution_count": 12,
   "id": "901a9a93-c108-45be-a0a7-2b9d7c4642a2",
   "metadata": {
    "collapsed": false,
    "jupyter": {
     "outputs_hidden": false
    }
   },
   "outputs": [
    {
     "name": "stdout",
     "output_type": "stream",
     "text": [
      "['incident_number', 'offense_code', 'description', 'date', 'day_of_the_week', 'lat', 'long']\n",
      "['1', '619', 'LARCENY ALL OTHERS', '2018-09-02', 'Sunday', '42.35779134', '-71.13937053']\n"
     ]
    }
   ],
   "source": [
    "print(col_headers)\n",
    "print(first_row)"
   ]
  },
  {
   "cell_type": "code",
   "execution_count": 13,
   "id": "466073fe-b837-42a7-b54c-5356a65cf504",
   "metadata": {
    "collapsed": false,
    "jupyter": {
     "outputs_hidden": false
    }
   },
   "outputs": [],
   "source": [
    "# create enumerated datatype for day of the wek\n",
    "cur.execute(\"\"\"\n",
    "    CREATE TYPE weekday AS ENUM ('Monday', 'Tuesday', 'Wednesday', 'Thursday', 'Friday', 'Saturday', 'Sunday');\n",
    "\"\"\")\n",
    "# Create the table.\n",
    "cur.execute(\"\"\"\n",
    "    CREATE TABLE crimes.boston_crimes (\n",
    "        incident_number INTEGER PRIMARY KEY,\n",
    "        offense_code INTEGER,\n",
    "        description VARCHAR(100),\n",
    "        date DATE,\n",
    "        day_of_the_week weekday,\n",
    "        lat decimal,\n",
    "        long decimal\n",
    "    );\n",
    "\"\"\")"
   ]
  },
  {
   "cell_type": "code",
   "execution_count": 14,
   "id": "d90191b5-6a75-4ceb-bf66-39ae9f320bb9",
   "metadata": {
    "collapsed": false,
    "jupyter": {
     "outputs_hidden": false
    }
   },
   "outputs": [
    {
     "name": "stdout",
     "output_type": "stream",
     "text": [
      "(1, 619, 'LARCENY ALL OTHERS', datetime.date(2018, 9, 2), 'Sunday', Decimal('42.35779134'), Decimal('-71.13937053'))\n",
      "298329\n"
     ]
    }
   ],
   "source": [
    "# loading the data\n",
    "with open('boston.csv') as file:\n",
    "    cur.copy_expert(\"COPY crimes.boston_crimes FROM STDIN WITH CSV HEADER\",file)\n",
    "cur.execute('SELECT * FROM crimes.boston_crimes;')\n",
    "data = cur.fetchall()\n",
    "print(data[0])\n",
    "print(len(data))"
   ]
  },
  {
   "cell_type": "code",
   "execution_count": 15,
   "id": "25a346d1-b81f-4e98-9a17-15e85ef18ad0",
   "metadata": {
    "collapsed": false,
    "jupyter": {
     "outputs_hidden": false
    }
   },
   "outputs": [],
   "source": [
    "# revoking public privileges\n",
    "cur.execute(\"REVOKE ALL ON SCHEMA public FROM public;\")\n",
    "cur.execute(\"REVOKE ALL ON DATABASE crime_db FROM public;\")"
   ]
  },
  {
   "cell_type": "code",
   "execution_count": 16,
   "id": "887b7833-f147-4f2b-b54c-092ed5966d8d",
   "metadata": {
    "collapsed": false,
    "jupyter": {
     "outputs_hidden": false
    }
   },
   "outputs": [],
   "source": [
    "# creating user groups\n",
    "cur.execute('CREATE GROUP readonly NOLOGIN;')\n",
    "cur.execute('CREATE GROUP readwrite NOLOGIN;')\n",
    "cur.execute('GRANT CONNECT ON DATABASE crime_db TO readonly;')\n",
    "cur.execute('GRANT CONNECT ON DATABASE crime_db TO readwrite;')\n",
    "cur.execute('GRANT USAGE ON SCHEMA crimes TO readonly;')\n",
    "cur.execute('GRANT USAGE ON SCHEMA crimes TO readwrite;')\n",
    "cur.execute('GRANT SELECT ON ALL TABLES IN SCHEMA crimes TO readonly;')\n",
    "cur.execute('GRANT SELECT, INSERT, DELETE, UPDATE ON ALL TABLES IN SCHEMA crimes TO readwrite;')"
   ]
  },
  {
   "cell_type": "code",
   "execution_count": 17,
   "id": "a3a43558-5558-4b40-8bad-a8e4d4273fe5",
   "metadata": {
    "collapsed": false,
    "jupyter": {
     "outputs_hidden": false
    }
   },
   "outputs": [],
   "source": [
    "# creating users\n",
    "cur.execute(\"CREATE USER data_analyst WITH PASSWORD 'secret1';\")\n",
    "cur.execute(\"GRANT readonly TO data_analyst;\")\n",
    "cur.execute(\"CREATE USER data_scientist WITH PASSWORD 'secret2';\")\n",
    "cur.execute('GRANT readwrite TO data_scientist')"
   ]
  },
  {
   "cell_type": "code",
   "execution_count": 18,
   "id": "cfe83c3f-e691-4581-a71d-2b391bb83090",
   "metadata": {
    "tags": []
   },
   "outputs": [],
   "source": [
    "conn.close()"
   ]
  }
 ],
 "metadata": {
  "kernelspec": {
   "display_name": "Python 3 (ipykernel)",
   "language": "python",
   "name": "python3"
  },
  "language_info": {
   "codemirror_mode": {
    "name": "ipython",
    "version": 3
   },
   "file_extension": ".py",
   "mimetype": "text/x-python",
   "name": "python",
   "nbconvert_exporter": "python",
   "pygments_lexer": "ipython3",
   "version": "3.9.12"
  }
 },
 "nbformat": 4,
 "nbformat_minor": 5
}
